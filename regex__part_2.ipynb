{
  "nbformat": 4,
  "nbformat_minor": 0,
  "metadata": {
    "colab": {
      "name": "regex_ part_2.ipynb",
      "provenance": [],
      "authorship_tag": "ABX9TyMF7AqqCcTFzmNX2e6K8MkF",
      "include_colab_link": true
    },
    "kernelspec": {
      "name": "python3",
      "display_name": "Python 3"
    }
  },
  "cells": [
    {
      "cell_type": "markdown",
      "metadata": {
        "id": "view-in-github",
        "colab_type": "text"
      },
      "source": [
        "<a href=\"https://colab.research.google.com/github/khuloodnasher/REGEX-Part2/blob/main/regex__part_2.ipynb\" target=\"_parent\"><img src=\"https://colab.research.google.com/assets/colab-badge.svg\" alt=\"Open In Colab\"/></a>"
      ]
    },
    {
      "cell_type": "code",
      "metadata": {
        "id": "19KeOitTJMnv",
        "outputId": "085f4738-47b5-46a6-ecff-b025a5a1a940",
        "colab": {
          "base_uri": "https://localhost:8080/"
        }
      },
      "source": [
        "\n",
        "import re\n",
        "# searching letter 'c'\n",
        "my_text= 'Current faculty, staff, and students receive a nasher_khulood@stanford.edu email account and access to a web-based Stanford calendar.'\n",
        "\n",
        "my_pattern=re.findall(r'c\\w+', my_text)\n",
        "\n",
        "\n",
        "my_pattern\n"
      ],
      "execution_count": 3,
      "outputs": [
        {
          "output_type": "execute_result",
          "data": {
            "text/plain": [
              "['culty', 'ceive', 'ccount', 'ccess', 'calendar']"
            ]
          },
          "metadata": {
            "tags": []
          },
          "execution_count": 3
        }
      ]
    },
    {
      "cell_type": "markdown",
      "metadata": {
        "id": "C5yKIhUpQ8q2"
      },
      "source": [
        "## Searching Email Patters"
      ]
    },
    {
      "cell_type": "code",
      "metadata": {
        "id": "iTJpli4vJcdz",
        "outputId": "60bc4512-cf5a-47e0-d8a9-a11ff3cd6345",
        "colab": {
          "base_uri": "https://localhost:8080/"
        }
      },
      "source": [
        "# searching for email address\n",
        "my_text= 'Current faculty, staff, and students receive a nasher_khulood@stanford.edu email account and access to a web-based Stanford calendar.'\n",
        "\n",
        "my_pattern=re.search(r'\\w+@\\w+', my_text)\n",
        "\n",
        "my_pattern\n",
        "\n"
      ],
      "execution_count": 36,
      "outputs": [
        {
          "output_type": "execute_result",
          "data": {
            "text/plain": [
              "<_sre.SRE_Match object; span=(47, 70), match='nasher_khulood@stanford'>"
            ]
          },
          "metadata": {
            "tags": []
          },
          "execution_count": 36
        }
      ]
    },
    {
      "cell_type": "code",
      "metadata": {
        "id": "FYhwbcroRPNP",
        "outputId": "4078d045-e7ba-4911-a872-39afd1176c01",
        "colab": {
          "base_uri": "https://localhost:8080/"
        }
      },
      "source": [
        "# solving the miising parts of email address\n",
        "# searching for email address\n",
        "my_text= 'Current faculty, staff, and students receive a nasher_khulood@stanford.edu email account and access to a web-based Stanford calendar.'\n",
        "\n",
        "my_pattern=re.search(r'\\w+@[\\w.]+', my_text)\n",
        "\n",
        "my_pattern\n"
      ],
      "execution_count": 40,
      "outputs": [
        {
          "output_type": "execute_result",
          "data": {
            "text/plain": [
              "<_sre.SRE_Match object; span=(47, 74), match='nasher_khulood@stanford.edu'>"
            ]
          },
          "metadata": {
            "tags": []
          },
          "execution_count": 40
        }
      ]
    },
    {
      "cell_type": "code",
      "metadata": {
        "id": "KxVMpWxG4SBB",
        "outputId": "a25c8637-8602-4b67-daee-8d5ac661ae8a",
        "colab": {
          "base_uri": "https://localhost:8080/"
        }
      },
      "source": [
        "# extracting words after @ symbol\n",
        "my_text= 'Current faculty, staff, and students receive a nasher_khulood@stanford.edu email account and access to a web-based Stanford calendar.'\n",
        "\n",
        "my_pattern=re.findall(r'@\\w+', my_text)\n",
        "\n",
        "my_pattern\n"
      ],
      "execution_count": 7,
      "outputs": [
        {
          "output_type": "execute_result",
          "data": {
            "text/plain": [
              "['@stanford']"
            ]
          },
          "metadata": {
            "tags": []
          },
          "execution_count": 7
        }
      ]
    },
    {
      "cell_type": "markdown",
      "metadata": {
        "id": "04oUc8TUvmK8"
      },
      "source": [
        "# Searching for Multiple Words"
      ]
    },
    {
      "cell_type": "code",
      "metadata": {
        "id": "1RplbUNDWkQy",
        "outputId": "58fa0a86-c364-4cc2-ac64-cede9e61fbd9",
        "colab": {
          "base_uri": "https://localhost:8080/"
        }
      },
      "source": [
        "my_text= 'Current faculty, staff, and students receive a nasher_khulood@stanford.edu email account and access to a web-based Stanford calendar.'\n",
        "\n",
        "my_pattern=['faculty', 'staff', 'name', 'students','Stanford','education']\n",
        "for word in my_pattern:\n",
        "  if re.search(word,my_text):\n",
        "    print ('It is a match')\n",
        "  else:\n",
        "    print ('It is not a match')\n",
        " \n"
      ],
      "execution_count": 43,
      "outputs": [
        {
          "output_type": "stream",
          "text": [
            "It is a match\n",
            "It is a match\n",
            "It is not a match\n",
            "It is a match\n",
            "It is a match\n",
            "It is not a match\n"
          ],
          "name": "stdout"
        }
      ]
    },
    {
      "cell_type": "code",
      "metadata": {
        "id": "xPiiXGeFvJNG"
      },
      "source": [
        ""
      ],
      "execution_count": null,
      "outputs": []
    }
  ]
}