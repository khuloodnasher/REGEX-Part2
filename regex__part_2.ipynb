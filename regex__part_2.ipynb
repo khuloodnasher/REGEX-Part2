{
  "nbformat": 4,
  "nbformat_minor": 0,
  "metadata": {
    "colab": {
      "name": "regex_ part_2.ipynb",
      "provenance": [],
      "authorship_tag": "ABX9TyOpdOzF7m08ZFLwQhEmGWL/",
      "include_colab_link": true
    },
    "kernelspec": {
      "name": "python3",
      "display_name": "Python 3"
    }
  },
  "cells": [
    {
      "cell_type": "markdown",
      "metadata": {
        "id": "view-in-github",
        "colab_type": "text"
      },
      "source": [
        "<a href=\"https://colab.research.google.com/github/khuloodnasher/REGEX-Part2/blob/main/regex__part_2.ipynb\" target=\"_parent\"><img src=\"https://colab.research.google.com/assets/colab-badge.svg\" alt=\"Open In Colab\"/></a>"
      ]
    },
    {
      "cell_type": "code",
      "metadata": {
        "id": "19KeOitTJMnv",
        "outputId": "0716ec91-bbb1-4225-c46f-c66509012360",
        "colab": {
          "base_uri": "https://localhost:8080/"
        }
      },
      "source": [
        "\n",
        "import re\n",
        "# searching letter 'c'\n",
        "my_text= 'Current faculty, staff, and students receive a nasher_khulood@stanford.edu email account and access to a web-based Stanford calendar.'\n",
        "\n",
        "my_pattern=re.findall(r'c\\w+', my_text)\n",
        "\n",
        "\n",
        "my_pattern\n"
      ],
      "execution_count": 10,
      "outputs": [
        {
          "output_type": "execute_result",
          "data": {
            "text/plain": [
              "['culty', 'ceive', 'ccount', 'ccess', 'calendar']"
            ]
          },
          "metadata": {
            "tags": []
          },
          "execution_count": 10
        }
      ]
    },
    {
      "cell_type": "markdown",
      "metadata": {
        "id": "C5yKIhUpQ8q2"
      },
      "source": [
        "## Searching Email Patters"
      ]
    },
    {
      "cell_type": "code",
      "metadata": {
        "id": "iTJpli4vJcdz",
        "outputId": "60bc4512-cf5a-47e0-d8a9-a11ff3cd6345",
        "colab": {
          "base_uri": "https://localhost:8080/"
        }
      },
      "source": [
        "# searching for email address\n",
        "my_text= 'Current faculty, staff, and students receive a nasher_khulood@stanford.edu email account and access to a web-based Stanford calendar.'\n",
        "\n",
        "my_pattern=re.search(r'\\w+@\\w+', my_text)\n",
        "\n",
        "my_pattern\n"
      ],
      "execution_count": 36,
      "outputs": [
        {
          "output_type": "execute_result",
          "data": {
            "text/plain": [
              "<_sre.SRE_Match object; span=(47, 70), match='nasher_khulood@stanford'>"
            ]
          },
          "metadata": {
            "tags": []
          },
          "execution_count": 36
        }
      ]
    },
    {
      "cell_type": "code",
      "metadata": {
        "id": "FYhwbcroRPNP",
        "outputId": "4078d045-e7ba-4911-a872-39afd1176c01",
        "colab": {
          "base_uri": "https://localhost:8080/"
        }
      },
      "source": [
        "# solving the miising parts of email address\n",
        "# searching for email address\n",
        "my_text= 'Current faculty, staff, and students receive a nasher_khulood@stanford.edu email account and access to a web-based Stanford calendar.'\n",
        "\n",
        "my_pattern=re.search(r'\\w+@[\\w.]+', my_text)\n",
        "\n",
        "my_pattern\n"
      ],
      "execution_count": 40,
      "outputs": [
        {
          "output_type": "execute_result",
          "data": {
            "text/plain": [
              "<_sre.SRE_Match object; span=(47, 74), match='nasher_khulood@stanford.edu'>"
            ]
          },
          "metadata": {
            "tags": []
          },
          "execution_count": 40
        }
      ]
    },
    {
      "cell_type": "code",
      "metadata": {
        "id": "1RplbUNDWkQy"
      },
      "source": [
        ""
      ],
      "execution_count": null,
      "outputs": []
    }
  ]
}