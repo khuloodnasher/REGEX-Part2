{
  "nbformat": 4,
  "nbformat_minor": 0,
  "metadata": {
    "colab": {
      "name": "regex_ part_2.ipynb",
      "provenance": [],
      "authorship_tag": "ABX9TyPOW2SUGRlc8Wx+b8tkdTrl",
      "include_colab_link": true
    },
    "kernelspec": {
      "name": "python3",
      "display_name": "Python 3"
    }
  },
  "cells": [
    {
      "cell_type": "markdown",
      "metadata": {
        "id": "view-in-github",
        "colab_type": "text"
      },
      "source": [
        "<a href=\"https://colab.research.google.com/github/khuloodnasher/REGEX-Part2/blob/main/regex__part_2.ipynb\" target=\"_parent\"><img src=\"https://colab.research.google.com/assets/colab-badge.svg\" alt=\"Open In Colab\"/></a>"
      ]
    },
    {
      "cell_type": "code",
      "metadata": {
        "id": "19KeOitTJMnv",
        "colab": {
          "base_uri": "https://localhost:8080/"
        },
        "outputId": "804195ab-f769-4a80-d26e-a6d8ad68e63b"
      },
      "source": [
        "\n",
        "import re\n",
        "# searching letter 'c'\n",
        "my_text= 'Current faculty, staff, and students receive a nasher_khulood@stanford.edu email account and access to a web-based Stanford calendar.'\n",
        "\n",
        "my_pattern=re.findall(r'c\\w+', my_text)\n",
        "\n",
        "\n",
        "my_pattern\n"
      ],
      "execution_count": 2,
      "outputs": [
        {
          "output_type": "execute_result",
          "data": {
            "text/plain": [
              "['culty', 'ceive', 'ccount', 'ccess', 'calendar']"
            ]
          },
          "metadata": {
            "tags": []
          },
          "execution_count": 2
        }
      ]
    },
    {
      "cell_type": "markdown",
      "metadata": {
        "id": "C5yKIhUpQ8q2"
      },
      "source": [
        "## Searching Email Patters"
      ]
    },
    {
      "cell_type": "code",
      "metadata": {
        "id": "iTJpli4vJcdz",
        "colab": {
          "base_uri": "https://localhost:8080/"
        },
        "outputId": "60bc4512-cf5a-47e0-d8a9-a11ff3cd6345"
      },
      "source": [
        "# searching for email address\n",
        "my_text= 'Current faculty, staff, and students receive a nasher_khulood@stanford.edu email account and access to a web-based Stanford calendar.'\n",
        "\n",
        "my_pattern=re.search(r'\\w+@\\w+', my_text)\n",
        "\n",
        "my_pattern\n",
        "\n"
      ],
      "execution_count": null,
      "outputs": [
        {
          "output_type": "execute_result",
          "data": {
            "text/plain": [
              "<_sre.SRE_Match object; span=(47, 70), match='nasher_khulood@stanford'>"
            ]
          },
          "metadata": {
            "tags": []
          },
          "execution_count": 36
        }
      ]
    },
    {
      "cell_type": "code",
      "metadata": {
        "id": "FYhwbcroRPNP",
        "colab": {
          "base_uri": "https://localhost:8080/"
        },
        "outputId": "4078d045-e7ba-4911-a872-39afd1176c01"
      },
      "source": [
        "# solving the miising parts of email address\n",
        "# searching for email address\n",
        "my_text= 'Current faculty, staff, and students receive a nasher_khulood@stanford.edu email account and access to a web-based Stanford calendar.'\n",
        "\n",
        "my_pattern=re.search(r'\\w+@[\\w.]+', my_text)\n",
        "\n",
        "my_pattern\n"
      ],
      "execution_count": null,
      "outputs": [
        {
          "output_type": "execute_result",
          "data": {
            "text/plain": [
              "<_sre.SRE_Match object; span=(47, 74), match='nasher_khulood@stanford.edu'>"
            ]
          },
          "metadata": {
            "tags": []
          },
          "execution_count": 40
        }
      ]
    },
    {
      "cell_type": "code",
      "metadata": {
        "id": "KxVMpWxG4SBB",
        "colab": {
          "base_uri": "https://localhost:8080/"
        },
        "outputId": "a25c8637-8602-4b67-daee-8d5ac661ae8a"
      },
      "source": [
        "# extracting words after @ symbol\n",
        "my_text= 'Current faculty, staff, and students receive a nasher_khulood@stanford.edu email account and access to a web-based Stanford calendar.'\n",
        "\n",
        "my_pattern=re.findall(r'@\\w+', my_text)\n",
        "\n",
        "my_pattern\n"
      ],
      "execution_count": null,
      "outputs": [
        {
          "output_type": "execute_result",
          "data": {
            "text/plain": [
              "['@stanford']"
            ]
          },
          "metadata": {
            "tags": []
          },
          "execution_count": 7
        }
      ]
    },
    {
      "cell_type": "code",
      "metadata": {
        "id": "gmMxJFrr77Rv",
        "colab": {
          "base_uri": "https://localhost:8080/"
        },
        "outputId": "435a0335-2c48-40cb-add1-b4b0c8942caf"
      },
      "source": [
        "# extracting words after @ symbol and after '.'\n",
        "my_text= 'Current faculty, staff, and students receive a nasher_khulood@stanford.edu email account and access to a web-based Stanford calendar.'\n",
        "\n",
        "my_pattern=re.findall(r'@[\\w.]+', my_text)\n",
        "\n",
        "my_pattern\n"
      ],
      "execution_count": null,
      "outputs": [
        {
          "output_type": "execute_result",
          "data": {
            "text/plain": [
              "['@stanford.edu']"
            ]
          },
          "metadata": {
            "tags": []
          },
          "execution_count": 8
        }
      ]
    },
    {
      "cell_type": "code",
      "metadata": {
        "id": "AoTQ-g7f-yQY",
        "colab": {
          "base_uri": "https://localhost:8080/"
        },
        "outputId": "e22124a7-17a5-434f-c511-92b51f2699e7"
      },
      "source": [
        "# extracting the domain only\n",
        "my_text= 'Current faculty, staff, and students receive a nasher_khulood@stanford.edu email account and access to a web-based Stanford calendar.'\n",
        "\n",
        "my_pattern=re.findall(r'@\\w+.(\\w+)', my_text)\n",
        "\n",
        "my_pattern\n"
      ],
      "execution_count": null,
      "outputs": [
        {
          "output_type": "execute_result",
          "data": {
            "text/plain": [
              "['edu']"
            ]
          },
          "metadata": {
            "tags": []
          },
          "execution_count": 9
        }
      ]
    },
    {
      "cell_type": "markdown",
      "metadata": {
        "id": "04oUc8TUvmK8"
      },
      "source": [
        "# Searching for Multiple Words"
      ]
    },
    {
      "cell_type": "code",
      "metadata": {
        "id": "1RplbUNDWkQy",
        "colab": {
          "base_uri": "https://localhost:8080/"
        },
        "outputId": "58fa0a86-c364-4cc2-ac64-cede9e61fbd9"
      },
      "source": [
        "my_text= 'Current faculty, staff, and students receive a nasher_khulood@stanford.edu email account and access to a web-based Stanford calendar.'\n",
        "\n",
        "my_pattern=['faculty', 'staff', 'name', 'students','Stanford','education']\n",
        "for word in my_pattern:\n",
        "  if re.search(word,my_text):\n",
        "    print ('It is a match')\n",
        "  else:\n",
        "    print ('It is not a match')\n",
        " \n"
      ],
      "execution_count": null,
      "outputs": [
        {
          "output_type": "stream",
          "text": [
            "It is a match\n",
            "It is a match\n",
            "It is not a match\n",
            "It is a match\n",
            "It is a match\n",
            "It is not a match\n"
          ],
          "name": "stdout"
        }
      ]
    },
    {
      "cell_type": "markdown",
      "metadata": {
        "id": "eyheWpFaKSOT"
      },
      "source": [
        "## Extracting Date Pattern"
      ]
    },
    {
      "cell_type": "code",
      "metadata": {
        "id": "WVsmbmIrKYO1",
        "colab": {
          "base_uri": "https://localhost:8080/"
        },
        "outputId": "0aeb13a4-81b3-46f6-dd33-a63d097a8aa8"
      },
      "source": [
        "my_text= 'Registration for Fall Semester starts on 06-15-2021.'\n",
        "my_pattern= re.findall(r'\\d{2}-\\d{2}-(\\d{4})',my_text)\n",
        "my_pattern"
      ],
      "execution_count": null,
      "outputs": [
        {
          "output_type": "execute_result",
          "data": {
            "text/plain": [
              "['2021']"
            ]
          },
          "metadata": {
            "tags": []
          },
          "execution_count": 6
        }
      ]
    },
    {
      "cell_type": "markdown",
      "metadata": {
        "id": "70I43zOqSz_O"
      },
      "source": [
        "# Extracting letters start with specific character:\n"
      ]
    },
    {
      "cell_type": "code",
      "metadata": {
        "id": "FdTngCQ1S3S5",
        "colab": {
          "base_uri": "https://localhost:8080/"
        },
        "outputId": "c83f6213-f13a-468e-9e7c-a2b673cce514"
      },
      "source": [
        "my_text= 'Current faculty, staff, and students receive a nasher_khulood@stanford.edu email account and access to a web-based Stanford calendar.'\n",
        "\n",
        "my_pattern=re.findall(r'[abcdABCD]\\w+', my_text)\n",
        "\n",
        "my_pattern\n"
      ],
      "execution_count": 6,
      "outputs": [
        {
          "output_type": "execute_result",
          "data": {
            "text/plain": [
              "['Current',\n",
              " 'aculty',\n",
              " 'aff',\n",
              " 'and',\n",
              " 'dents',\n",
              " 'ceive',\n",
              " 'asher_khulood',\n",
              " 'anford',\n",
              " 'du',\n",
              " 'ail',\n",
              " 'account',\n",
              " 'and',\n",
              " 'access',\n",
              " 'based',\n",
              " 'anford',\n",
              " 'calendar']"
            ]
          },
          "metadata": {
            "tags": []
          },
          "execution_count": 6
        }
      ]
    },
    {
      "cell_type": "code",
      "metadata": {
        "id": "jwqYE6BjUWx6",
        "colab": {
          "base_uri": "https://localhost:8080/"
        },
        "outputId": "66979271-cfaf-4e4d-c4ed-a556ec6bbd3d"
      },
      "source": [
        "my_text= 'Current faculty, staff, and students receive a nasher_khulood@stanford.edu email account and access to a web-based Stanford calendar.'\n",
        "\n",
        "my_pattern=re.findall(r'\\b[^abcdABCD]\\w+', my_text)\n",
        "\n",
        "my_pattern\n"
      ],
      "execution_count": 7,
      "outputs": [
        {
          "output_type": "execute_result",
          "data": {
            "text/plain": [
              "[' faculty',\n",
              " 'staff',\n",
              " ' students',\n",
              " ' receive',\n",
              " ' a',\n",
              " ' nasher_khulood',\n",
              " '@stanford',\n",
              " '.edu',\n",
              " ' email',\n",
              " ' account',\n",
              " ' and',\n",
              " ' access',\n",
              " ' to',\n",
              " ' a',\n",
              " ' web',\n",
              " '-based',\n",
              " ' Stanford',\n",
              " ' calendar']"
            ]
          },
          "metadata": {
            "tags": []
          },
          "execution_count": 7
        }
      ]
    },
    {
      "cell_type": "markdown",
      "metadata": {
        "id": "3Dm15rkhG9CH"
      },
      "source": [
        "# Split method"
      ]
    },
    {
      "cell_type": "code",
      "metadata": {
        "colab": {
          "base_uri": "https://localhost:8080/"
        },
        "id": "z3L21IdLvtpO",
        "outputId": "79d9bc47-cdf3-426b-951e-c1c76e091cb9"
      },
      "source": [
        "# split by space\n",
        "\n",
        "my_text= 'Current faculty staff and students receive a nasher_khulood@stanford.edu email account and access to a web-based Stanford calendar.'\n",
        "my_pattern = re.split(\"\\s\", my_text)\n",
        "print(my_pattern)\n",
        "#You can control the number of occurrences by specifying the maxsplit parameter:\n",
        "\n",
        "customized_pattern = re.split(\"\\s\", my_text,maxsplit=1)\n",
        "print(customized_pattern)"
      ],
      "execution_count": 18,
      "outputs": [
        {
          "output_type": "stream",
          "text": [
            "['Current', 'faculty', 'staff', 'and', 'students', 'receive', 'a', 'nasher_khulood@stanford.edu', 'email', 'account', 'and', 'access', 'to', 'a', 'web-based', 'Stanford', 'calendar.']\n",
            "['Current', 'faculty staff and students receive a nasher_khulood@stanford.edu email account and access to a web-based Stanford calendar.']\n"
          ],
          "name": "stdout"
        }
      ]
    },
    {
      "cell_type": "markdown",
      "metadata": {
        "id": "5KpO6-PdHD1O"
      },
      "source": [
        "# Replace Method"
      ]
    },
    {
      "cell_type": "code",
      "metadata": {
        "id": "5yecstehHHbe"
      },
      "source": [
        ""
      ],
      "execution_count": null,
      "outputs": []
    },
    {
      "cell_type": "markdown",
      "metadata": {
        "id": "52jRNyiZHIr-"
      },
      "source": [
        "# Compile Method"
      ]
    },
    {
      "cell_type": "code",
      "metadata": {
        "id": "yr3ArxaNHNNZ"
      },
      "source": [
        ""
      ],
      "execution_count": null,
      "outputs": []
    },
    {
      "cell_type": "markdown",
      "metadata": {
        "id": "vUs-aBPhHOK0"
      },
      "source": [
        "# Parsing Websites"
      ]
    },
    {
      "cell_type": "code",
      "metadata": {
        "id": "czMLmYByHR72"
      },
      "source": [
        ""
      ],
      "execution_count": null,
      "outputs": []
    },
    {
      "cell_type": "markdown",
      "metadata": {
        "id": "9jHaULBZHUlj"
      },
      "source": [
        "# Searching Arabic Texts"
      ]
    },
    {
      "cell_type": "code",
      "metadata": {
        "id": "oOr-SO7QHZLQ"
      },
      "source": [
        ""
      ],
      "execution_count": null,
      "outputs": []
    }
  ]
}