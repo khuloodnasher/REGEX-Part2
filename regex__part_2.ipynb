{
  "nbformat": 4,
  "nbformat_minor": 0,
  "metadata": {
    "colab": {
      "name": "regex_ part_2.ipynb",
      "provenance": [],
      "authorship_tag": "ABX9TyPzKbqPIeavit3qeBqvycIQ",
      "include_colab_link": true
    },
    "kernelspec": {
      "name": "python3",
      "display_name": "Python 3"
    }
  },
  "cells": [
    {
      "cell_type": "markdown",
      "metadata": {
        "id": "view-in-github",
        "colab_type": "text"
      },
      "source": [
        "<a href=\"https://colab.research.google.com/github/khuloodnasher/REGEX-Part2/blob/main/regex__part_2.ipynb\" target=\"_parent\"><img src=\"https://colab.research.google.com/assets/colab-badge.svg\" alt=\"Open In Colab\"/></a>"
      ]
    },
    {
      "cell_type": "code",
      "metadata": {
        "id": "19KeOitTJMnv",
        "outputId": "91e25d4c-5325-471c-bd92-4bb51203c074",
        "colab": {
          "base_uri": "https://localhost:8080/"
        }
      },
      "source": [
        "\n",
        "import re\n",
        "# searching letter 'c'\n",
        "my_text= 'Current faculty, staff, and students receive a nasher_khulood@stanford.edu email account and access to a web-based Stanford calendar.'\n",
        "\n",
        "my_pattern=re.findall(r'c\\w+', my_text)\n",
        "\n",
        "\n",
        "my_pattern\n"
      ],
      "execution_count": 2,
      "outputs": [
        {
          "output_type": "execute_result",
          "data": {
            "text/plain": [
              "['culty', 'ceive', 'ccount', 'ccess', 'calendar']"
            ]
          },
          "metadata": {
            "tags": []
          },
          "execution_count": 2
        }
      ]
    },
    {
      "cell_type": "markdown",
      "metadata": {
        "id": "C5yKIhUpQ8q2"
      },
      "source": [
        "## Searching Email Patters"
      ]
    },
    {
      "cell_type": "code",
      "metadata": {
        "id": "iTJpli4vJcdz",
        "outputId": "60bc4512-cf5a-47e0-d8a9-a11ff3cd6345",
        "colab": {
          "base_uri": "https://localhost:8080/"
        }
      },
      "source": [
        "# searching for email address\n",
        "my_text= 'Current faculty, staff, and students receive a nasher_khulood@stanford.edu email account and access to a web-based Stanford calendar.'\n",
        "\n",
        "my_pattern=re.search(r'\\w+@\\w+', my_text)\n",
        "\n",
        "my_pattern\n",
        "\n"
      ],
      "execution_count": 36,
      "outputs": [
        {
          "output_type": "execute_result",
          "data": {
            "text/plain": [
              "<_sre.SRE_Match object; span=(47, 70), match='nasher_khulood@stanford'>"
            ]
          },
          "metadata": {
            "tags": []
          },
          "execution_count": 36
        }
      ]
    },
    {
      "cell_type": "code",
      "metadata": {
        "id": "FYhwbcroRPNP",
        "outputId": "4078d045-e7ba-4911-a872-39afd1176c01",
        "colab": {
          "base_uri": "https://localhost:8080/"
        }
      },
      "source": [
        "# solving the miising parts of email address\n",
        "# searching for email address\n",
        "my_text= 'Current faculty, staff, and students receive a nasher_khulood@stanford.edu email account and access to a web-based Stanford calendar.'\n",
        "\n",
        "my_pattern=re.search(r'\\w+@[\\w.]+', my_text)\n",
        "\n",
        "my_pattern\n"
      ],
      "execution_count": 40,
      "outputs": [
        {
          "output_type": "execute_result",
          "data": {
            "text/plain": [
              "<_sre.SRE_Match object; span=(47, 74), match='nasher_khulood@stanford.edu'>"
            ]
          },
          "metadata": {
            "tags": []
          },
          "execution_count": 40
        }
      ]
    },
    {
      "cell_type": "code",
      "metadata": {
        "id": "KxVMpWxG4SBB",
        "outputId": "a25c8637-8602-4b67-daee-8d5ac661ae8a",
        "colab": {
          "base_uri": "https://localhost:8080/"
        }
      },
      "source": [
        "# extracting words after @ symbol\n",
        "my_text= 'Current faculty, staff, and students receive a nasher_khulood@stanford.edu email account and access to a web-based Stanford calendar.'\n",
        "\n",
        "my_pattern=re.findall(r'@\\w+', my_text)\n",
        "\n",
        "my_pattern\n"
      ],
      "execution_count": 7,
      "outputs": [
        {
          "output_type": "execute_result",
          "data": {
            "text/plain": [
              "['@stanford']"
            ]
          },
          "metadata": {
            "tags": []
          },
          "execution_count": 7
        }
      ]
    },
    {
      "cell_type": "code",
      "metadata": {
        "id": "gmMxJFrr77Rv",
        "outputId": "435a0335-2c48-40cb-add1-b4b0c8942caf",
        "colab": {
          "base_uri": "https://localhost:8080/"
        }
      },
      "source": [
        "# extracting words after @ symbol and after '.'\n",
        "my_text= 'Current faculty, staff, and students receive a nasher_khulood@stanford.edu email account and access to a web-based Stanford calendar.'\n",
        "\n",
        "my_pattern=re.findall(r'@[\\w.]+', my_text)\n",
        "\n",
        "my_pattern\n"
      ],
      "execution_count": 8,
      "outputs": [
        {
          "output_type": "execute_result",
          "data": {
            "text/plain": [
              "['@stanford.edu']"
            ]
          },
          "metadata": {
            "tags": []
          },
          "execution_count": 8
        }
      ]
    },
    {
      "cell_type": "code",
      "metadata": {
        "id": "AoTQ-g7f-yQY",
        "outputId": "e22124a7-17a5-434f-c511-92b51f2699e7",
        "colab": {
          "base_uri": "https://localhost:8080/"
        }
      },
      "source": [
        "# extracting the domain only\n",
        "my_text= 'Current faculty, staff, and students receive a nasher_khulood@stanford.edu email account and access to a web-based Stanford calendar.'\n",
        "\n",
        "my_pattern=re.findall(r'@\\w+.(\\w+)', my_text)\n",
        "\n",
        "my_pattern\n"
      ],
      "execution_count": 9,
      "outputs": [
        {
          "output_type": "execute_result",
          "data": {
            "text/plain": [
              "['edu']"
            ]
          },
          "metadata": {
            "tags": []
          },
          "execution_count": 9
        }
      ]
    },
    {
      "cell_type": "markdown",
      "metadata": {
        "id": "04oUc8TUvmK8"
      },
      "source": [
        "# Searching for Multiple Words"
      ]
    },
    {
      "cell_type": "code",
      "metadata": {
        "id": "1RplbUNDWkQy",
        "outputId": "58fa0a86-c364-4cc2-ac64-cede9e61fbd9",
        "colab": {
          "base_uri": "https://localhost:8080/"
        }
      },
      "source": [
        "my_text= 'Current faculty, staff, and students receive a nasher_khulood@stanford.edu email account and access to a web-based Stanford calendar.'\n",
        "\n",
        "my_pattern=['faculty', 'staff', 'name', 'students','Stanford','education']\n",
        "for word in my_pattern:\n",
        "  if re.search(word,my_text):\n",
        "    print ('It is a match')\n",
        "  else:\n",
        "    print ('It is not a match')\n",
        " \n"
      ],
      "execution_count": 43,
      "outputs": [
        {
          "output_type": "stream",
          "text": [
            "It is a match\n",
            "It is a match\n",
            "It is not a match\n",
            "It is a match\n",
            "It is a match\n",
            "It is not a match\n"
          ],
          "name": "stdout"
        }
      ]
    },
    {
      "cell_type": "markdown",
      "metadata": {
        "id": "eyheWpFaKSOT"
      },
      "source": [
        "## Extracting Date Pattern"
      ]
    },
    {
      "cell_type": "code",
      "metadata": {
        "id": "WVsmbmIrKYO1",
        "outputId": "0aeb13a4-81b3-46f6-dd33-a63d097a8aa8",
        "colab": {
          "base_uri": "https://localhost:8080/"
        }
      },
      "source": [
        "my_text= 'Registration for Fall Semester starts on 06-15-2021.'\n",
        "my_pattern= re.findall(r'\\d{2}-\\d{2}-(\\d{4})',my_text)\n",
        "my_pattern"
      ],
      "execution_count": 6,
      "outputs": [
        {
          "output_type": "execute_result",
          "data": {
            "text/plain": [
              "['2021']"
            ]
          },
          "metadata": {
            "tags": []
          },
          "execution_count": 6
        }
      ]
    },
    {
      "cell_type": "markdown",
      "metadata": {
        "id": "70I43zOqSz_O"
      },
      "source": [
        "# Extracting letters start with specific character:\n"
      ]
    },
    {
      "cell_type": "code",
      "metadata": {
        "id": "FdTngCQ1S3S5",
        "outputId": "61201156-28f5-4152-f6d5-f80fa51283fa",
        "colab": {
          "base_uri": "https://localhost:8080/"
        }
      },
      "source": [
        "my_text= 'Current faculty, staff, and students receive a nasher_khulood@stanford.edu email account and access to a web-based Stanford calendar.'\n",
        "\n",
        "my_pattern=re.findall(r'[abcedfksw]\\w+', my_text)\n",
        "\n",
        "my_pattern\n"
      ],
      "execution_count": 8,
      "outputs": [
        {
          "output_type": "execute_result",
          "data": {
            "text/plain": [
              "['ent',\n",
              " 'faculty',\n",
              " 'staff',\n",
              " 'and',\n",
              " 'students',\n",
              " 'eceive',\n",
              " 'asher_khulood',\n",
              " 'stanford',\n",
              " 'edu',\n",
              " 'email',\n",
              " 'account',\n",
              " 'and',\n",
              " 'access',\n",
              " 'web',\n",
              " 'based',\n",
              " 'anford',\n",
              " 'calendar']"
            ]
          },
          "metadata": {
            "tags": []
          },
          "execution_count": 8
        }
      ]
    },
    {
      "cell_type": "code",
      "metadata": {
        "id": "jwqYE6BjUWx6",
        "outputId": "5c3cf629-2a1d-4609-872f-48dd040442fc",
        "colab": {
          "base_uri": "https://localhost:8080/"
        }
      },
      "source": [
        "my_text= 'Current faculty, staff, and students receive a nasher_khulood@stanford.edu email account and access to a web-based Stanford calendar.'\n",
        "\n",
        "my_pattern=re.findall(r'\\b[^abcedfksw]\\w+', my_text)\n",
        "\n",
        "my_pattern\n"
      ],
      "execution_count": 11,
      "outputs": [
        {
          "output_type": "execute_result",
          "data": {
            "text/plain": [
              "['Current',\n",
              " ' faculty',\n",
              " ' students',\n",
              " ' receive',\n",
              " ' a',\n",
              " ' nasher_khulood',\n",
              " '@stanford',\n",
              " '.edu',\n",
              " ' email',\n",
              " ' account',\n",
              " ' and',\n",
              " ' access',\n",
              " ' to',\n",
              " ' a',\n",
              " ' web',\n",
              " '-based',\n",
              " ' Stanford',\n",
              " ' calendar']"
            ]
          },
          "metadata": {
            "tags": []
          },
          "execution_count": 11
        }
      ]
    },
    {
      "cell_type": "code",
      "metadata": {
        "id": "nP2QrlCUU8kL"
      },
      "source": [
        ""
      ],
      "execution_count": null,
      "outputs": []
    }
  ]
}